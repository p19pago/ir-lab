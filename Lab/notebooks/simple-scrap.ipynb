{
 "cells": [
  {
   "cell_type": "markdown",
   "id": "f9ab030c-7e75-41c0-bbca-b3703b169a09",
   "metadata": {},
   "source": [
    "# Lab 1 - Web scrapping"
   ]
  },
  {
   "cell_type": "code",
   "execution_count": 1,
   "id": "50140e2b-64d8-406d-9a6c-37c2158a1b58",
   "metadata": {},
   "outputs": [
    {
     "name": "stdout",
     "output_type": "stream",
     "text": [
      "Requirement already satisfied: beautifulsoup4 in c:\\users\\diuser\\anaconda3\\lib\\site-packages (4.9.3)\n",
      "Requirement already satisfied: soupsieve>1.2 in c:\\users\\diuser\\anaconda3\\lib\\site-packages (from beautifulsoup4) (2.2.1)\n",
      "Note: you may need to restart the kernel to use updated packages.\n"
     ]
    }
   ],
   "source": [
    "pip install beautifulsoup4"
   ]
  },
  {
   "cell_type": "markdown",
   "id": "bab8c603-05b9-49d4-be96-f2f3654b6f64",
   "metadata": {},
   "source": [
    "* Step 1: request a url"
   ]
  },
  {
   "cell_type": "code",
   "execution_count": 2,
   "id": "567831c9-a41c-4444-9bfc-6d9a6c0dc951",
   "metadata": {},
   "outputs": [
    {
     "name": "stdout",
     "output_type": "stream",
     "text": [
      "!DOCTYPE HTML PUBLIC \"-//W3C//DTD HTML 4.0 Transitional//EN\"\n",
      " \"http://www.w3.org/TR/REC-html40/loose.dtd\">\n",
      " <html>\n",
      " <head>\n",
      " <title>The Complete Works of William Shakespeare\n",
      " </title>\n",
      " <meta http-equiv=\"Content-Type\" content=\"text/html; charset=iso-8\n"
     ]
    }
   ],
   "source": [
    "from urllib.request import urlopen\n",
    "\n",
    "url = \"http://shakespeare.mit.edu/\"\n",
    "page = urlopen(url)\n",
    "html = page.read().decode(\"utf-8\")\n",
    "print(html[1:250])"
   ]
  },
  {
   "cell_type": "markdown",
   "id": "e2f97d97-c148-4587-ab57-5c8420e00b6d",
   "metadata": {},
   "source": [
    "* Step 2: create a BeautifulSoup object and get all links"
   ]
  },
  {
   "cell_type": "code",
   "execution_count": 3,
   "id": "28356170-6815-45e7-8226-1752143572c3",
   "metadata": {},
   "outputs": [],
   "source": [
    "from bs4 import BeautifulSoup\n",
    "import re\n",
    "soup = BeautifulSoup(html, \"html.parser\")\n",
    "links = soup.find_all('a', href=True)"
   ]
  },
  {
   "cell_type": "markdown",
   "id": "99505169-0cd2-4696-974a-234ed785f426",
   "metadata": {},
   "source": [
    "    * Print a few links"
   ]
  },
  {
   "cell_type": "code",
   "execution_count": 4,
   "id": "50b78462-a66d-497c-97d5-e75c8c75b8a0",
   "metadata": {},
   "outputs": [
    {
     "name": "stdout",
     "output_type": "stream",
     "text": [
      "http://shakespeare.palomar.edu/ Mr. William Shakespeare\n",
      "and the Internet\n",
      "news.html Older news items\n",
      "allswell/index.html \n",
      "All's Well That Ends Well\n",
      "asyoulikeit/index.html \n",
      "As You Like It\n",
      "comedy_errors/index.html \n",
      "The Comedy of Errors\n"
     ]
    }
   ],
   "source": [
    "for l in links[0:5]:\n",
    "    print(l['href'] , l.get_text())"
   ]
  },
  {
   "cell_type": "markdown",
   "id": "a4ea6c28-9447-4b3e-b9bd-d49c6c3a4b6b",
   "metadata": {},
   "source": [
    "    * Remove external links and same level links from list"
   ]
  },
  {
   "cell_type": "code",
   "execution_count": 5,
   "id": "5926814a-cfc8-4ea5-88d8-5d398d86778e",
   "metadata": {},
   "outputs": [
    {
     "data": {
      "text/plain": [
       "{\"All's Well That Ends Well\": 'allswell/index.html',\n",
       " 'As You Like It': 'asyoulikeit/index.html',\n",
       " 'The Comedy of Errors': 'comedy_errors/index.html',\n",
       " 'Cymbeline': 'cymbeline/index.html',\n",
       " \"Love's Labours Lost\": 'lll/index.html',\n",
       " 'Measure for Measure': 'measure/index.html',\n",
       " 'The\\nMerry Wives of Windsor': 'merry_wives/index.html',\n",
       " 'The Merchant of Venice': 'merchant/index.html',\n",
       " \"A Midsummer Night's Dream\": 'midsummer/index.html',\n",
       " 'Much Ado About Nothing': 'much_ado/index.html',\n",
       " 'Pericles, Prince of Tyre': 'pericles/index.html',\n",
       " 'Taming of the Shrew': 'taming_shrew/index.html',\n",
       " 'The Tempest': 'tempest/index.html',\n",
       " 'Troilus and Cressida': 'troilus_cressida/index.html',\n",
       " 'Twelfth Night': 'twelfth_night/index.html',\n",
       " 'Two Gentlemen of Verona': 'two_gentlemen/index.html',\n",
       " \"Winter's Tale\": 'winters_tale/index.html',\n",
       " 'Henry IV, part 1': '1henryiv/index.html',\n",
       " 'Henry IV, part 2': '2henryiv/index.html',\n",
       " 'Henry V': 'henryv/index.html',\n",
       " 'Henry VI, part 1': '1henryvi/index.html',\n",
       " 'Henry VI, part 2': '2henryvi/index.html',\n",
       " 'Henry VI, part 3': '3henryvi/index.html',\n",
       " 'Henry VIII': 'henryviii/index.html',\n",
       " 'King John': 'john/index.html',\n",
       " 'Richard II': 'richardii/index.html',\n",
       " 'Richard III': 'richardiii/index.html',\n",
       " 'Antony and Cleopatra': 'cleopatra/index.html',\n",
       " 'Coriolanus': 'coriolanus/index.html',\n",
       " 'Hamlet': 'hamlet/index.html',\n",
       " 'Julius Caesar': 'julius_caesar/index.html',\n",
       " 'King Lear': 'lear/index.html',\n",
       " 'Macbeth': 'macbeth/index.html',\n",
       " 'Othello': 'othello/index.html',\n",
       " 'Romeo and Juliet': 'romeo_juliet/index.html',\n",
       " 'Timon of Athens': 'timon/index.html',\n",
       " 'Titus Andronicus': 'titus/index.html'}"
      ]
     },
     "execution_count": 5,
     "metadata": {},
     "output_type": "execute_result"
    }
   ],
   "source": [
    "plays = {}\n",
    "for l in links:\n",
    "    href = l['href']\n",
    "    if href.find('http')<0 and href.find('/')>0 and href.find('Poetry/')<0:\n",
    "        text = l.get_text().strip()\n",
    "        plays[text] = href\n",
    "plays"
   ]
  },
  {
   "cell_type": "markdown",
   "id": "52c20ca4-6b61-442f-9997-15e71b2baeb8",
   "metadata": {},
   "source": [
    "* For each link, get full text html and store in a file with tha name of the play."
   ]
  },
  {
   "cell_type": "markdown",
   "id": "c1acfd86-db63-43e1-9733-50c9148816c2",
   "metadata": {},
   "source": [
    "    * Make a folder using shell command"
   ]
  },
  {
   "cell_type": "code",
   "execution_count": 6,
   "id": "6b4cd30a-023d-4854-8c13-d18d853a8adf",
   "metadata": {},
   "outputs": [
    {
     "name": "stderr",
     "output_type": "stream",
     "text": [
      "Υπάρχει ήδη ένας υποκατάλογος ή αρχείο shakespeare.\n"
     ]
    }
   ],
   "source": [
    "!mkdir shakespeare"
   ]
  },
  {
   "cell_type": "markdown",
   "id": "65c20baa-c5a7-455e-85ca-ad26e9aaaa10",
   "metadata": {},
   "source": [
    "    * For each play, replace 'index.html' with 'full.html', then get with a request and store to file with play name."
   ]
  },
  {
   "cell_type": "code",
   "execution_count": 11,
   "id": "1ec9bbb1-c6a5-4ccd-ba60-dce332e657db",
   "metadata": {},
   "outputs": [
    {
     "name": "stdout",
     "output_type": "stream",
     "text": [
      "All's Well That Ends Well\n",
      "As You Like It\n",
      "The Comedy of Errors\n",
      "Cymbeline\n",
      "Love's Labours Lost\n",
      "Measure for Measure\n",
      "The\n",
      "Merry Wives of Windsor\n",
      "The Merchant of Venice\n",
      "A Midsummer Night's Dream\n",
      "Much Ado About Nothing\n",
      "Pericles, Prince of Tyre\n",
      "Taming of the Shrew\n",
      "The Tempest\n",
      "Troilus and Cressida\n",
      "Twelfth Night\n",
      "Two Gentlemen of Verona\n",
      "Winter's Tale\n",
      "Henry IV, part 1\n",
      "Henry IV, part 2\n",
      "Henry V\n",
      "Henry VI, part 1\n",
      "Henry VI, part 2\n",
      "Henry VI, part 3\n",
      "Henry VIII\n",
      "King John\n",
      "Richard II\n",
      "Richard III\n",
      "Antony and Cleopatra\n",
      "Coriolanus\n",
      "Hamlet\n",
      "Julius Caesar\n",
      "King Lear\n",
      "Macbeth\n",
      "Othello\n",
      "Romeo and Juliet\n",
      "Timon of Athens\n",
      "Titus Andronicus\n"
     ]
    }
   ],
   "source": [
    "for p in plays:\n",
    "    print(p)\n",
    "    play_page = urlopen(url+plays[p].replace('index', 'full') )\n",
    "    play_html = play_page.read().decode(\"utf-8\")\n",
    "    play_soup = BeautifulSoup(play_html, \"html.parser\")\n",
    "    play_text = play_soup.get_text()    \n",
    "    play_text = re.sub(r'\\n+', '\\n', play_text).strip()\n",
    "    # print(play_text[0:500] )\n",
    "    with open('./shakespeare/'+(p.replace(\"\\n\",\"\").replace(\"\\r\",\"\"))+'.txt', 'w') as f:\n",
    "        f.write(play_text)"
   ]
  },
  {
   "cell_type": "code",
   "execution_count": null,
   "id": "2d8ddeaa",
   "metadata": {},
   "outputs": [],
   "source": []
  }
 ],
 "metadata": {
  "kernelspec": {
   "display_name": "Python 3",
   "language": "python",
   "name": "python3"
  },
  "language_info": {
   "codemirror_mode": {
    "name": "ipython",
    "version": 3
   },
   "file_extension": ".py",
   "mimetype": "text/x-python",
   "name": "python",
   "nbconvert_exporter": "python",
   "pygments_lexer": "ipython3",
   "version": "3.8.8"
  }
 },
 "nbformat": 4,
 "nbformat_minor": 5
}
